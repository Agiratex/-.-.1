{
 "cells": [
  {
   "cell_type": "markdown",
   "metadata": {
    "id": "atqZGIIyNSBb"
   },
   "source": [
    "#**Практическое задание №1**"
   ]
  },
  {
   "cell_type": "markdown",
   "metadata": {
    "id": "ga5g3lUhNNBy"
   },
   "source": [
    "Установка необходимых пакетов:"
   ]
  },
  {
   "cell_type": "code",
   "execution_count": 1,
   "metadata": {
    "colab": {
     "base_uri": "https://localhost:8080/",
     "height": 0
    },
    "id": "TGBk36LpukIu",
    "outputId": "aed1ca68-0b95-45ad-82b0-535a44c9203c"
   },
   "outputs": [
    {
     "name": "stdout",
     "output_type": "stream",
     "text": [
      "Requirement already satisfied: gdown in /usr/local/lib/python3.7/dist-packages (4.4.0)\n",
      "Requirement already satisfied: beautifulsoup4 in /usr/local/lib/python3.7/dist-packages (from gdown) (4.6.3)\n",
      "Requirement already satisfied: tqdm in /usr/local/lib/python3.7/dist-packages (from gdown) (4.64.0)\n",
      "Requirement already satisfied: filelock in /usr/local/lib/python3.7/dist-packages (from gdown) (3.6.0)\n",
      "Requirement already satisfied: six in /usr/local/lib/python3.7/dist-packages (from gdown) (1.15.0)\n",
      "Requirement already satisfied: requests[socks] in /usr/local/lib/python3.7/dist-packages (from gdown) (2.23.0)\n",
      "Requirement already satisfied: idna<3,>=2.5 in /usr/local/lib/python3.7/dist-packages (from requests[socks]->gdown) (2.10)\n",
      "Requirement already satisfied: certifi>=2017.4.17 in /usr/local/lib/python3.7/dist-packages (from requests[socks]->gdown) (2021.10.8)\n",
      "Requirement already satisfied: chardet<4,>=3.0.2 in /usr/local/lib/python3.7/dist-packages (from requests[socks]->gdown) (3.0.4)\n",
      "Requirement already satisfied: urllib3!=1.25.0,!=1.25.1,<1.26,>=1.21.1 in /usr/local/lib/python3.7/dist-packages (from requests[socks]->gdown) (1.24.3)\n",
      "Requirement already satisfied: PySocks!=1.5.7,>=1.5.6 in /usr/local/lib/python3.7/dist-packages (from requests[socks]->gdown) (1.7.1)\n"
     ]
    }
   ],
   "source": [
    "!pip install -q libtiff\n",
    "!pip install -q tqdm\n",
    "!pip install --upgrade --no-cache-dir gdown"
   ]
  },
  {
   "cell_type": "markdown",
   "metadata": {
    "id": "2vQDLyHEO1Ux"
   },
   "source": [
    "Монтирование Вашего Google Drive к текущему окружению:"
   ]
  },
  {
   "cell_type": "code",
   "execution_count": 2,
   "metadata": {
    "colab": {
     "base_uri": "https://localhost:8080/",
     "height": 0
    },
    "id": "5G5KkA1Nu5M9",
    "outputId": "b238a0ac-882e-4748-de95-60d866325efc"
   },
   "outputs": [
    {
     "name": "stdout",
     "output_type": "stream",
     "text": [
      "Mounted at /content/drive\n"
     ]
    }
   ],
   "source": [
    "from google.colab import drive\n",
    "drive.mount('/content/drive', force_remount=True)"
   ]
  },
  {
   "cell_type": "markdown",
   "metadata": {
    "id": "E6-mtI6W1y1b"
   },
   "source": [
    "В переменную PROJECT_DIR необходимо прописать путь к директории на Google Drive. Это пригодится при сохранении модели."
   ]
  },
  {
   "cell_type": "code",
   "execution_count": 3,
   "metadata": {
    "id": "IdvM-BUTvfSV"
   },
   "outputs": [],
   "source": [
    "# todo\n",
    "PROJECT_DIR = 'Нейронки.ДЗ.1'"
   ]
  },
  {
   "cell_type": "markdown",
   "metadata": {
    "id": "0Num5lHV6912"
   },
   "source": [
    "Константы, которые пригодятся в коде далее:"
   ]
  },
  {
   "cell_type": "code",
   "execution_count": 4,
   "metadata": {
    "id": "ab2yCwDm7Fqb"
   },
   "outputs": [],
   "source": [
    "EVALUATE_ONLY = True\n",
    "TEST_ON_LARGE_DATASET = True\n",
    "TISSUE_CLASSES = ('ADI', 'BACK', 'DEB', 'LYM', 'MUC', 'MUS', 'NORM', 'STR', 'TUM')"
   ]
  },
  {
   "cell_type": "markdown",
   "metadata": {
    "id": "4jfjZya7Cu5x"
   },
   "source": [
    "Ссылки (gdrive идентификаторы) на предоставляемые наборы данных:"
   ]
  },
  {
   "cell_type": "code",
   "execution_count": 5,
   "metadata": {
    "id": "bySwf3rZSGFC"
   },
   "outputs": [],
   "source": [
    "DATASETS_LINKS = {\n",
    "    'train': '1XtQzVQ5XbrfxpLHJuL0XBGJ5U7CS-cLi',\n",
    "    'train_small': '1qd45xXfDwdZjktLFwQb-et-mAaFeCzOR',\n",
    "    'train_tiny': '1I-2ZOuXLd4QwhZQQltp817Kn3J0Xgbui',\n",
    "    'test': '1RfPou3pFKpuHDJZ-D9XDFzgvwpUBFlDr',\n",
    "    'test_small': '1wbRsog0n7uGlHIPGLhyN-PMeT2kdQ2lI',\n",
    "    'test_tiny': '1viiB0s041CNsAK4itvX8PnYthJ-MDnQc'\n",
    "}"
   ]
  },
  {
   "cell_type": "markdown",
   "metadata": {
    "id": "fgY-ux5qOI0k"
   },
   "source": [
    "Импорт необходимых зависимостей:"
   ]
  },
  {
   "cell_type": "code",
   "execution_count": 6,
   "metadata": {
    "id": "kLHQhqiSIyvK"
   },
   "outputs": [],
   "source": [
    "from pathlib import Path\n",
    "from libtiff import TIFF\n",
    "import numpy as np\n",
    "from typing import List\n",
    "from tqdm.notebook import tqdm\n",
    "from time import sleep\n",
    "from PIL import Image\n",
    "import IPython.display\n",
    "from sklearn.metrics import balanced_accuracy_score\n",
    "import gdown\n",
    "import tensorflow as tf"
   ]
  },
  {
   "cell_type": "markdown",
   "metadata": {
    "id": "zKLI3lUyMYO9"
   },
   "source": [
    "---\n",
    "### Класс Dataset\n",
    "\n",
    "Предназначен для работы с наборами данных, хранящихся на Google Drive, обеспечивает чтение изображений и соответствующих меток, а также формирование пакетов (батчей)."
   ]
  },
  {
   "cell_type": "code",
   "execution_count": 7,
   "metadata": {
    "id": "8N169efsw1ej"
   },
   "outputs": [],
   "source": [
    "class Dataset:\n",
    "\n",
    "    def __init__(self, name):\n",
    "        self.name = name\n",
    "        self.is_loaded = False\n",
    "        if not Path(f'{name}.npz').exists():\n",
    "            url = f'https://drive.google.com/uc?id={DATASETS_LINKS[name]}'\n",
    "            output = f'{name}.npz'\n",
    "            gdown.download(url, output, quiet=False)\n",
    "        print(f'Loading dataset {self.name} from npz.')\n",
    "        np_obj = np.load(f'{name}.npz')\n",
    "        self.images = np_obj['data']\n",
    "        self.labels = np_obj['labels']\n",
    "        self.n_files = self.images.shape[0]\n",
    "        self.is_loaded = True\n",
    "        print(f'Done. Dataset {name} consists of {self.n_files} images.')\n",
    "\n",
    "    def image(self, i):\n",
    "        # read i-th image in dataset and return it as numpy array\n",
    "        if self.is_loaded:\n",
    "            return self.images[i, :, :, :]\n",
    "\n",
    "    def images_seq(self, n=None):\n",
    "        # sequential access to images inside dataset (is needed for testing)\n",
    "        for i in range(self.n_files if not n else n):\n",
    "            yield self.image(i)\n",
    "\n",
    "    def random_image_with_label(self):\n",
    "        # get random image with label from dataset\n",
    "        i = np.random.randint(self.n_files)\n",
    "        return self.image(i), self.labels[i]\n",
    "  \n",
    "    def random_batch_with_labels(self, n):\n",
    "        # create random batch of images with labels (is needed for training)\n",
    "        indices = np.random.choice(self.n_files, n)\n",
    "        imgs = []\n",
    "        for i in indices:\n",
    "            img = self.image(i)\n",
    "            imgs.append(self.image(i))\n",
    "        logits = np.array([self.labels[i] for i in indices])\n",
    "        return np.stack(imgs), logits\n",
    "\n",
    "    def image_with_label(self, i: int):\n",
    "        # return i-th image with label from dataset\n",
    "        return self.image(i), self.labels[i]"
   ]
  },
  {
   "cell_type": "markdown",
   "metadata": {
    "id": "M-LvGqeHYgus"
   },
   "source": [
    "### Пример использвания класса Dataset\n",
    "Загрузим обучающий набор данных, получим произвольное изображение с меткой. После чего визуализируем изображение, выведем метку. В будущем, этот кусок кода можно закомментировать или убрать."
   ]
  },
  {
   "cell_type": "code",
   "execution_count": 8,
   "metadata": {
    "colab": {
     "base_uri": "https://localhost:8080/",
     "height": 397
    },
    "id": "HhObWEjGJ1um",
    "outputId": "0cf29dba-661e-441b-e846-60d4221b0ef4"
   },
   "outputs": [
    {
     "name": "stderr",
     "output_type": "stream",
     "text": [
      "Downloading...\n",
      "From: https://drive.google.com/uc?id=1I-2ZOuXLd4QwhZQQltp817Kn3J0Xgbui\n",
      "To: /content/train_tiny.npz\n",
      "100%|██████████| 105M/105M [00:00<00:00, 113MB/s]\n"
     ]
    },
    {
     "name": "stdout",
     "output_type": "stream",
     "text": [
      "Loading dataset train_tiny from npz.\n",
      "Done. Dataset train_tiny consists of 900 images.\n",
      "\n",
      "Got numpy array of shape (224, 224, 3), and label with code 8.\n",
      "Label code corresponds to TUM class.\n"
     ]
    },
    {
     "data": {
      "image/png": "[encoded data removed]",
      "text/plain": [
       "<PIL.Image.Image image mode=RGB size=224x224 at 0x7F32E428CDD0>"
      ]
     },
     "metadata": {},
     "output_type": "display_data"
    }
   ],
   "source": [
    "d_train_tiny = Dataset('train_tiny')\n",
    "\n",
    "img, lbl = d_train_tiny.random_image_with_label()\n",
    "print()\n",
    "print(f'Got numpy array of shape {img.shape}, and label with code {lbl}.')\n",
    "print(f'Label code corresponds to {TISSUE_CLASSES[lbl]} class.')\n",
    "\n",
    "pil_img = Image.fromarray(img)\n",
    "IPython.display.display(pil_img)"
   ]
  },
  {
   "cell_type": "markdown",
   "metadata": {
    "id": "qaBXXCWeVLYb"
   },
   "source": [
    "---\n",
    "### Класс Metrics\n",
    "\n",
    "Реализует метрики точности, используемые для оценивания модели:\n",
    "1. точность,\n",
    "2. сбалансированную точность."
   ]
  },
  {
   "cell_type": "code",
   "execution_count": 9,
   "metadata": {
    "id": "5unQ7azTinCZ"
   },
   "outputs": [],
   "source": [
    "class Metrics:\n",
    "\n",
    "    @staticmethod\n",
    "    def accuracy(gt: List[int], pred: List[int]):\n",
    "        assert len(gt) == len(pred), 'gt and prediction should be of equal length'\n",
    "        return sum(int(i[0] == i[1]) for i in zip(gt, pred)) / len(gt)\n",
    "\n",
    "    @staticmethod\n",
    "    def accuracy_balanced(gt: List[int], pred: List[int]):\n",
    "        return balanced_accuracy_score(gt, pred)\n",
    "\n",
    "    @staticmethod\n",
    "    def print_all(gt: List[int], pred: List[int], info: str):\n",
    "        print(f'metrics for {info}:')\n",
    "        print('\\t accuracy {:.4f}:'.format(Metrics.accuracy(gt, pred)))\n",
    "        print('\\t balanced accuracy {:.4f}:'.format(Metrics.accuracy_balanced(gt, pred)))"
   ]
  },
  {
   "cell_type": "markdown",
   "metadata": {
    "id": "N1AHzTJVGU5k"
   },
   "source": [
    "---\n",
    "### Класс Model\n",
    "\n",
    "Класс, хранящий в себе всю информацию о модели.\n",
    "\n",
    "Вам необходимо реализовать методы save, load для сохранения и заргрузки модели. Особенно актуально это будет во время тестирования на дополнительных наборах данных.\n",
    "\n",
    "> *Пожалуйста, убедитесь, что сохранение и загрузка модели работает корректно. Для этого обучите модель, протестируйте, сохраните ее в файл, перезапустите среду выполнения, загрузите обученную модель из файла, вновь протестируйте ее на тестовой выборке и убедитесь в том, что получаемые метрики совпадают с полученными для тестовой выбрки ранее.*\n",
    "\n",
    "\n",
    "Также, Вы можете реализовать дополнительные функции, такие как:\n",
    "1. валидацию модели на части обучающей выборки;\n",
    "2. использование кроссвалидации;\n",
    "3. автоматическое сохранение модели при обучении;\n",
    "4. загрузку модели с какой-то конкретной итерации обучения (если используется итеративное обучение);\n",
    "5. вывод различных показателей в процессе обучения (например, значение функции потерь на каждой эпохе);\n",
    "6. построение графиков, визуализирующих процесс обучения (например, график зависимости функции потерь от номера эпохи обучения);\n",
    "7. автоматическое тестирование на тестовом наборе/наборах данных после каждой эпохи обучения (при использовании итеративного обучения);\n",
    "8. автоматический выбор гиперпараметров модели во время обучения;\n",
    "9. сохранение и визуализацию результатов тестирования;\n",
    "10. Использование аугментации и других способов синтетического расширения набора данных (дополнительным плюсом будет обоснование необходимости и обоснование выбора конкретных типов аугментации)\n",
    "11. и т.д.\n",
    "\n",
    "Полный список опций и дополнений приведен в презентации с описанием задания.\n",
    "\n",
    "При реализации дополнительных функций допускается добавление параметров в существующие методы и добавление новых методов в класс модели."
   ]
  },
  {
   "cell_type": "code",
   "execution_count": 10,
   "metadata": {
    "id": "CjbV2cAeXHNS"
   },
   "outputs": [],
   "source": [
    "import tensorflow as tf\n",
    "from tensorflow.keras.layers import Conv2D, MaxPooling2D, Dense, Flatten, Rescaling, ReLU, BatchNormalization"
   ]
  },
  {
   "cell_type": "code",
   "execution_count": 11,
   "metadata": {
    "id": "0pkMiB6mJ7JQ"
   },
   "outputs": [],
   "source": [
    "class Model():\n",
    "\n",
    "    def __init__(self):\n",
    "        self.m = tf.keras.models.Sequential([\n",
    "            Rescaling(scale=1./127.5, offset=-1),\n",
    "\n",
    "            Conv2D(32, kernel_size=(3, 3), input_shape = (224, 224, 3)), #222\n",
    "            BatchNormalization(),\n",
    "            ReLU(),\n",
    "            Conv2D(32, kernel_size=(3, 3), input_shape = (224, 224, 3)), #220\n",
    "            BatchNormalization(),\n",
    "            ReLU(),\n",
    "            MaxPooling2D((2, 2)), #110\n",
    "\n",
    "            Conv2D(64, kernel_size=(3, 3)), #108 \n",
    "            BatchNormalization(),\n",
    "            ReLU(),\n",
    "            Conv2D(64, kernel_size=(3, 3)), #106\n",
    "            BatchNormalization(),\n",
    "            ReLU(),\n",
    "            MaxPooling2D((2, 2)), #53\n",
    "\n",
    "            Conv2D(128, kernel_size=(3, 3)), #51\n",
    "            BatchNormalization(),\n",
    "            ReLU(),\n",
    "            Conv2D(128, kernel_size=(3, 3)), #49\n",
    "            BatchNormalization(),\n",
    "            ReLU(),\n",
    "            MaxPooling2D((2, 2)), #24\n",
    "\n",
    "            Conv2D(256, kernel_size=(3, 3)), #22\n",
    "            BatchNormalization(),\n",
    "            ReLU(),\n",
    "            Conv2D(256, kernel_size=(3, 3)), #20\n",
    "            BatchNormalization(),\n",
    "            ReLU(),\n",
    "            MaxPooling2D((2, 2)), #10\n",
    "\n",
    "            Conv2D(512, kernel_size=(3, 3)), #8\n",
    "            BatchNormalization(),\n",
    "            ReLU(),\n",
    "            Conv2D(512, kernel_size=(3, 3)), #6\n",
    "            BatchNormalization(),\n",
    "            ReLU(),\n",
    "            Flatten(),\n",
    "            \n",
    "            Dense(9, activation=\"softmax\")\n",
    "        ])\n",
    "        self.m.compile(optimizer='adam',\n",
    "            loss='sparse_categorical_crossentropy',\n",
    "            metrics=['accuracy'])\n",
    "\n",
    "\n",
    "    def train(self, dataset: Dataset, epochs = 20, batch_size = 16, callback_name=\"checkpoint\"):\n",
    "        print(f'training started')\n",
    "        #LBL1\n",
    "        checkpoint_filepath = f\"/content/drive/MyDrive/{PROJECT_DIR}/{callback_name}\"\n",
    "        model_checkpoint_callback = tf.keras.callbacks.ModelCheckpoint(\n",
    "            filepath=checkpoint_filepath,\n",
    "            save_weights_only=True,\n",
    "            monitor='accuracy',\n",
    "            mode='max',\n",
    "            save_best_only=True)\n",
    "        \n",
    "        #LBL3 если это можно считать выведеним точности и loss на обучающей выборке \n",
    "        self.m.fit(dataset.images, dataset.labels,\n",
    "            batch_size=batch_size,\n",
    "            epochs=epochs,\n",
    "            shuffle=True, callbacks=[model_checkpoint_callback])\n",
    "        \n",
    "        self.m.load_weights(checkpoint_filepath)\n",
    "\n",
    "        \n",
    "        print(f'training done')\n",
    "        pass\n",
    "\n",
    "    def save(self, name: str):\n",
    "        # todo\n",
    "        pass\n",
    "        # example demonstrating saving the model to PROJECT_DIR folder on gdrive with name 'name'\n",
    "        self.m.save(f\"/content/drive/MyDrive/{PROJECT_DIR}/{name}.h5\")\n",
    "\n",
    "    def load(self, name: str):\n",
    "        # todo\n",
    "        pass\n",
    "        # example demonstrating loading the model with name 'name' from gdrive using link\n",
    "        name_to_id_dict = {\n",
    "            'best': '1RngoqNHDCChPfndaYIw7vbPShgDscIJo',\n",
    "            'second' : '1-5cc4gt34LXue3OTHbVByMm6fn9LJ9PH',\n",
    "            'third' : '1TiFI8pI437hFPRM0EH1Sjk27a7kQxfxr', #~94%\n",
    "            'alres' : '1qTbQs3jdC7QfkxrrUR8juRRHhsjbO-c-'\n",
    "        }\n",
    "        output = name\n",
    "        gdown.download(f'https://drive.google.com/uc?id={name_to_id_dict[name]}', output, quiet=False)\n",
    "        self.m = tf.keras.models.load_model(name)\n",
    "\n",
    "\n",
    "    def test_on_dataset(self, dataset: Dataset, limit=None):\n",
    "        # you can upgrade this code if you want to speed up testing using batches\n",
    "        #predictions = []\n",
    "        n = dataset.n_files if not limit else int(dataset.n_files * limit)\n",
    "        #for img in \n",
    "        #LBL2\n",
    "        return self.m.predict(tf.convert_to_tensor(list(dataset.images_seq(n))), batch_size=16).argmax(axis=1)\n",
    "            #predictions.append(self.test_on_image(img))\n",
    "        #return predictions\n",
    "\n",
    "    def test_on_image(self, img: np.ndarray):\n",
    "        # todo: replace this code\n",
    "        pred = self.m.predict(tf.expand_dims(img, 0))\n",
    "        return tf.argmax(pred[0], axis=-1)\n"
   ]
  },
  {
   "cell_type": "markdown",
   "metadata": {
    "id": "ZMpTB6lMr00A"
   },
   "source": [
    "---\n",
    "### Классификация изображений\n",
    "\n",
    "Используя введенные выше классы можем перейти уже непосредственно к обучению модели классификации изображений. Пример общего пайплайна решения задачи приведен ниже. Вы можете его расширять и улучшать. В данном примере используются наборы данных 'train_small' и 'test_small'."
   ]
  },
  {
   "cell_type": "code",
   "execution_count": 12,
   "metadata": {
    "colab": {
     "base_uri": "https://localhost:8080/",
     "height": 0
    },
    "id": "5cTOuZD01Up6",
    "outputId": "fb4ecc31-c8b9-4b51-d92d-897634830ea4"
   },
   "outputs": [
    {
     "name": "stdout",
     "output_type": "stream",
     "text": [
      "Loading dataset train from npz.\n",
      "Done. Dataset train consists of 18000 images.\n",
      "Loading dataset test from npz.\n",
      "Done. Dataset test consists of 4500 images.\n"
     ]
    }
   ],
   "source": [
    "d_train = Dataset('train')\n",
    "d_test = Dataset('test') #возможна ошибка, необходимо пару раз перезапускать ячейку"
   ]
  },
  {
   "cell_type": "code",
   "execution_count": 13,
   "metadata": {
    "colab": {
     "base_uri": "https://localhost:8080/",
     "height": 0
    },
    "id": "yGMgFotEUUNF",
    "outputId": "2f443ab3-f7c4-4027-d4fe-8f6f83d1ae23"
   },
   "outputs": [
    {
     "name": "stderr",
     "output_type": "stream",
     "text": [
      "Downloading...\n",
      "From: https://drive.google.com/uc?id=1qTbQs3jdC7QfkxrrUR8juRRHhsjbO-c-\n",
      "To: /content/alres\n",
      "100%|██████████| 58.8M/58.8M [00:00<00:00, 283MB/s]\n"
     ]
    }
   ],
   "source": [
    "model = Model()\n",
    "if not EVALUATE_ONLY:\n",
    "    model.train(d_train, epochs=80)\n",
    "    model.save('АляResnet2')\n",
    "else:\n",
    "    model.load('alres')"
   ]
  },
  {
   "cell_type": "markdown",
   "metadata": {
    "id": "CcM2EiRMVP93"
   },
   "source": [
    "Пример тестирования модели на части набора данных:"
   ]
  },
  {
   "cell_type": "code",
   "execution_count": 14,
   "metadata": {
    "colab": {
     "base_uri": "https://localhost:8080/",
     "height": 0
    },
    "id": "I0AqmeLEKqrs",
    "outputId": "03c40147-229a-4297-c8cb-9e042179f5b6"
   },
   "outputs": [
    {
     "name": "stdout",
     "output_type": "stream",
     "text": [
      "metrics for 10% of test:\n",
      "\t accuracy 0.9911:\n",
      "\t balanced accuracy 0.9911:\n"
     ]
    },
    {
     "name": "stderr",
     "output_type": "stream",
     "text": [
      "/usr/local/lib/python3.7/dist-packages/sklearn/metrics/_classification.py:1987: UserWarning: y_pred contains classes not in y_true\n",
      "  warnings.warn(\"y_pred contains classes not in y_true\")\n"
     ]
    }
   ],
   "source": [
    "# evaluating model on 10% of test dataset\n",
    "pred_1 = model.test_on_dataset(d_test, limit=0.1)\n",
    "Metrics.print_all(d_test.labels[:len(pred_1)], pred_1, '10% of test')"
   ]
  },
  {
   "cell_type": "markdown",
   "metadata": {
    "id": "mSwvHVVzVWZ5"
   },
   "source": [
    "Пример тестирования модели на полном наборе данных:"
   ]
  },
  {
   "cell_type": "code",
   "execution_count": 15,
   "metadata": {
    "colab": {
     "base_uri": "https://localhost:8080/",
     "height": 0
    },
    "id": "mjI_sbMi3TMY",
    "outputId": "375e053e-cabc-4bbd-aa34-47022499685d"
   },
   "outputs": [
    {
     "name": "stdout",
     "output_type": "stream",
     "text": [
      "metrics for test:\n",
      "\t accuracy 0.9662:\n",
      "\t balanced accuracy 0.9662:\n"
     ]
    }
   ],
   "source": [
    "# evaluating model on full test dataset (may take time)\n",
    "if TEST_ON_LARGE_DATASET:\n",
    "    pred_2 = model.test_on_dataset(d_test)\n",
    "    Metrics.print_all(d_test.labels, pred_2, 'test')"
   ]
  },
  {
   "cell_type": "markdown",
   "metadata": {
    "id": "kvyEHdxEB18o"
   },
   "source": [
    "Результат работы пайплайна обучения и тестирования выше тоже будет оцениваться. Поэтому не забудьте присылать на проверку ноутбук с выполнеными ячейками кода с демонстрациями метрик обучения, графиками и т.п. В этом пайплайне Вам необходимо продемонстрировать работу всех реализованных дополнений, улучшений и т.п.\n",
    "\n",
    "<font color=\"red\">\n",
    "Настоятельно рекомендуется после получения пайплайна с полными результатами обучения экспортировать ноутбук в pdf (файл -> печать) и прислать этот pdf вместе с самим ноутбуком.\n",
    "</font>"
   ]
  },
  {
   "cell_type": "markdown",
   "metadata": {
    "id": "RzSKAvVI6uCW"
   },
   "source": [
    "### Тестирование модели на других наборах данных\n",
    "\n",
    "Ваша модель должна поддерживать тестирование на других наборах данных. Для удобства, Вам предоставляется набор данных test_tiny, который представляет собой малую часть (2% изображений) набора test. Ниже приведен фрагмент кода, который будет осуществлять тестирование для оценивания Вашей модели на дополнительных тестовых наборах данных.\n",
    "\n",
    "<font color=\"red\">\n",
    "Прежде чем отсылать задание на проверку, убедитесь в работоспособности фрагмента кода ниже.\n",
    "</font>"
   ]
  },
  {
   "cell_type": "code",
   "execution_count": null,
   "metadata": {
    "id": "sdY3uTt87tqv"
   },
   "outputs": [],
   "source": [
    "final_model = Model()\n",
    "final_model.load('alres')\n",
    "d_test_tiny = Dataset('test_tiny')\n",
    "pred = model.test_on_dataset(d_test_tiny)\n",
    "Metrics.print_all(d_test_tiny.labels, pred, 'test-tiny')"
   ]
  },
  {
   "cell_type": "markdown",
   "metadata": {
    "id": "lPvyj4gscU10"
   },
   "source": [
    "Отмонтировать Google Drive."
   ]
  },
  {
   "cell_type": "code",
   "execution_count": null,
   "metadata": {
    "id": "NfX35zNSvFWn"
   },
   "outputs": [],
   "source": [
    "drive.flush_and_unmount()"
   ]
  },
  {
   "cell_type": "markdown",
   "metadata": {
    "id": "RMyDxCDCspcI"
   },
   "source": [
    "---\n",
    "# Дополнительные \"полезности\"\n",
    "\n",
    "Ниже приведены примеры использования различных функций и библиотек, которые могут быть полезны при выполнении данного практического задания."
   ]
  },
  {
   "cell_type": "markdown",
   "metadata": {
    "id": "VvLwSttCs1rB"
   },
   "source": [
    "### Измерение времени работы кода\n",
    "\n",
    "Измерять время работы какой-либо функции можно легко и непринужденно при помощи функции timeit из соответствующего модуля:"
   ]
  },
  {
   "cell_type": "code",
   "execution_count": null,
   "metadata": {
    "id": "-HnLVhwE9C9S"
   },
   "outputs": [],
   "source": [
    "import timeit\n",
    "\n",
    "def factorial(n):\n",
    "    res = 1\n",
    "    for i in range(1, n + 1):\n",
    "        res *= i\n",
    "    return res\n",
    "\n",
    "\n",
    "def f():\n",
    "    return factorial(n=1000)\n",
    "\n",
    "n_runs = 128\n",
    "print(f'Function f is caluclated {n_runs} times in {timeit.timeit(f, number=n_runs)}s.')"
   ]
  },
  {
   "cell_type": "markdown",
   "metadata": {
    "id": "fibGVEdguOOi"
   },
   "source": [
    "### Scikit-learn\n",
    "\n",
    "Для использования \"классических\" алгоритмов машинного обучения рекомендуется использовать библиотеку scikit-learn (https://scikit-learn.org/stable/). Пример классификации изображений цифр из набора данных MNIST при помощи классификатора SVM:"
   ]
  },
  {
   "cell_type": "code",
   "execution_count": null,
   "metadata": {
    "id": "vXHnBzEfunAO"
   },
   "outputs": [],
   "source": [
    "# Standard scientific Python imports\n",
    "import matplotlib.pyplot as plt\n",
    "\n",
    "# Import datasets, classifiers and performance metrics\n",
    "from sklearn import datasets, svm, metrics\n",
    "from sklearn.model_selection import train_test_split\n",
    "\n",
    "# The digits dataset\n",
    "digits = datasets.load_digits()\n",
    "\n",
    "# The data that we are interested in is made of 8x8 images of digits, let's\n",
    "# have a look at the first 4 images, stored in the `images` attribute of the\n",
    "# dataset.  If we were working from image files, we could load them using\n",
    "# matplotlib.pyplot.imread.  Note that each image must have the same size. For these\n",
    "# images, we know which digit they represent: it is given in the 'target' of\n",
    "# the dataset.\n",
    "_, axes = plt.subplots(2, 4)\n",
    "images_and_labels = list(zip(digits.images, digits.target))\n",
    "for ax, (image, label) in zip(axes[0, :], images_and_labels[:4]):\n",
    "    ax.set_axis_off()\n",
    "    ax.imshow(image, cmap=plt.cm.gray_r, interpolation='nearest')\n",
    "    ax.set_title('Training: %i' % label)\n",
    "\n",
    "# To apply a classifier on this data, we need to flatten the image, to\n",
    "# turn the data in a (samples, feature) matrix:\n",
    "n_samples = len(digits.images)\n",
    "data = digits.images.reshape((n_samples, -1))\n",
    "\n",
    "# Create a classifier: a support vector classifier\n",
    "classifier = svm.SVC(gamma=0.001)\n",
    "\n",
    "# Split data into train and test subsets\n",
    "X_train, X_test, y_train, y_test = train_test_split(\n",
    "    data, digits.target, test_size=0.5, shuffle=False)\n",
    "\n",
    "# We learn the digits on the first half of the digits\n",
    "classifier.fit(X_train, y_train)\n",
    "\n",
    "# Now predict the value of the digit on the second half:\n",
    "predicted = classifier.predict(X_test)\n",
    "\n",
    "images_and_predictions = list(zip(digits.images[n_samples // 2:], predicted))\n",
    "for ax, (image, prediction) in zip(axes[1, :], images_and_predictions[:4]):\n",
    "    ax.set_axis_off()\n",
    "    ax.imshow(image, cmap=plt.cm.gray_r, interpolation='nearest')\n",
    "    ax.set_title('Prediction: %i' % prediction)\n",
    "\n",
    "print(\"Classification report for classifier %s:\\n%s\\n\"\n",
    "      % (classifier, metrics.classification_report(y_test, predicted)))\n",
    "disp = metrics.plot_confusion_matrix(classifier, X_test, y_test)\n",
    "disp.figure_.suptitle(\"Confusion Matrix\")\n",
    "print(\"Confusion matrix:\\n%s\" % disp.confusion_matrix)\n",
    "\n",
    "plt.show()"
   ]
  },
  {
   "cell_type": "markdown",
   "metadata": {
    "id": "Uu3Dny5zxcVy"
   },
   "source": [
    "### Scikit-image\n",
    "\n",
    "Реализовывать различные операции для работы с изображениями можно как самостоятельно, работая с массивами numpy, так и используя специализированные библиотеки, например, scikit-image (https://scikit-image.org/). Ниже приведен пример использования Canny edge detector."
   ]
  },
  {
   "cell_type": "code",
   "execution_count": null,
   "metadata": {
    "id": "5TZvy_d7xc0B"
   },
   "outputs": [],
   "source": [
    "import numpy as np\n",
    "import matplotlib.pyplot as plt\n",
    "from scipy import ndimage as ndi\n",
    "\n",
    "from skimage import feature\n",
    "\n",
    "\n",
    "# Generate noisy image of a square\n",
    "im = np.zeros((128, 128))\n",
    "im[32:-32, 32:-32] = 1\n",
    "\n",
    "im = ndi.rotate(im, 15, mode='constant')\n",
    "im = ndi.gaussian_filter(im, 4)\n",
    "im += 0.2 * np.random.random(im.shape)\n",
    "\n",
    "# Compute the Canny filter for two values of sigma\n",
    "edges1 = feature.canny(im)\n",
    "edges2 = feature.canny(im, sigma=3)\n",
    "\n",
    "# display results\n",
    "fig, (ax1, ax2, ax3) = plt.subplots(nrows=1, ncols=3, figsize=(8, 3),\n",
    "                                    sharex=True, sharey=True)\n",
    "\n",
    "ax1.imshow(im, cmap=plt.cm.gray)\n",
    "ax1.axis('off')\n",
    "ax1.set_title('noisy image', fontsize=20)\n",
    "\n",
    "ax2.imshow(edges1, cmap=plt.cm.gray)\n",
    "ax2.axis('off')\n",
    "ax2.set_title(r'Canny filter, $\\sigma=1$', fontsize=20)\n",
    "\n",
    "ax3.imshow(edges2, cmap=plt.cm.gray)\n",
    "ax3.axis('off')\n",
    "ax3.set_title(r'Canny filter, $\\sigma=3$', fontsize=20)\n",
    "\n",
    "fig.tight_layout()\n",
    "\n",
    "plt.show()"
   ]
  },
  {
   "cell_type": "markdown",
   "metadata": {
    "id": "hiEWhGUQRGoH"
   },
   "source": [
    "### Tensorflow 2\n",
    "\n",
    "Для создания и обучения нейросетевых моделей можно использовать фреймворк глубокого обучения Tensorflow 2. Ниже приведен пример простейшей нейроной сети, использующейся для классификации изображений из набора данных MNIST."
   ]
  },
  {
   "cell_type": "code",
   "execution_count": null,
   "metadata": {
    "id": "kDwLG7A1ReNy"
   },
   "outputs": [],
   "source": [
    "# Install TensorFlow\n",
    "\n",
    "import tensorflow as tf\n",
    "\n",
    "mnist = tf.keras.datasets.mnist\n",
    "\n",
    "(x_train, y_train), (x_test, y_test) = mnist.load_data()\n",
    "x_train, x_test = x_train / 255.0, x_test / 255.0\n",
    "\n",
    "model = tf.keras.models.Sequential([\n",
    "  tf.keras.layers.Flatten(input_shape=(28, 28)),\n",
    "  tf.keras.layers.Dense(128, activation='relu'),\n",
    "  tf.keras.layers.Dropout(0.2),\n",
    "  tf.keras.layers.Dense(10, activation='softmax')\n",
    "])\n",
    "\n",
    "model.compile(optimizer='adam',\n",
    "              loss='sparse_categorical_crossentropy',\n",
    "              metrics=['accuracy'])\n",
    "\n",
    "model.fit(x_train, y_train, epochs=5)\n",
    "\n",
    "model.evaluate(x_test,  y_test, verbose=2)"
   ]
  },
  {
   "cell_type": "markdown",
   "metadata": {
    "id": "IbvktmLwRu8g"
   },
   "source": [
    "<font color=\"red\">\n",
    "Для эффективной работы с моделями глубокого обучения убедитесь в том, что в текущей среде Google Colab используется аппаратный ускоритель GPU или TPU. Для смены среды выберите \"среда выполнения\" -> \"сменить среду выполнения\".\n",
    "</font>"
   ]
  },
  {
   "cell_type": "markdown",
   "metadata": {
    "id": "nJVNOOU9Sjyf"
   },
   "source": [
    "Большое количество туториалов и примеров с кодом на Tensorflow 2 можно найти на официальном сайте https://www.tensorflow.org/tutorials?hl=ru. "
   ]
  },
  {
   "cell_type": "markdown",
   "metadata": {
    "id": "GVPs3pYpS0U1"
   },
   "source": [
    "Также, Вам может понадобиться написать собственный генератор данных для Tensorflow 2. Скорее всего он будет достаточно простым, и его легко можно будет реализовать, используя официальную документацию TensorFlow 2. Но, на всякий случай (если не удлось сразу разобраться или хочется вникнуть в тему более глубоко), можете посмотреть следующий отличный туториал: https://stanford.edu/~shervine/blog/keras-how-to-generate-data-on-the-fly."
   ]
  },
  {
   "cell_type": "markdown",
   "metadata": {
    "id": "lwI-T0IXyN84"
   },
   "source": [
    "### Numba\n",
    "\n",
    "В некоторых ситуациях, при ручных реализациях графовых алгоритмов, выполнение многократных вложенных циклов for в python можно существенно ускорить, используя JIT-компилятор Numba (https://numba.pydata.org/).\n",
    "Примеры использования Numba в Google Colab можно найти тут:\n",
    "1. https://colab.research.google.com/github/cbernet/maldives/blob/master/numba/numba_cuda.ipynb\n",
    "2. https://colab.research.google.com/github/evaneschneider/parallel-programming/blob/master/COMPASS_gpu_intro.ipynb \n",
    "\n",
    "> Пожалуйста, если Вы решили использовать Numba для решения этого практического задания, еще раз подумайте, нужно ли это Вам, и есть ли возможность реализовать требуемую функциональность иным способом. Используйте Numba только при реальной необходимости.\n",
    "\n"
   ]
  },
  {
   "cell_type": "markdown",
   "metadata": {
    "id": "BxAJ00A76LcF"
   },
   "source": [
    "### Работа с zip архивами в Google Drive\n",
    "\n",
    "Запаковка и распаковка zip архивов может пригодиться при сохранении и загрузки Вашей модели. Ниже приведен фрагмент кода, иллюстрирующий помещение нескольких файлов в zip архив с последующим чтением файлов из него. Все действия с директориями, файлами и архивами должны осущетвляться с примонтированным Google Drive.\n"
   ]
  },
  {
   "cell_type": "markdown",
   "metadata": {
    "id": "ZJiKndOpPu_e"
   },
   "source": [
    "Создадим 2 изображения, поместим их в директорию tmp внутри PROJECT_DIR, запакуем директорию tmp в архив tmp.zip."
   ]
  },
  {
   "cell_type": "code",
   "execution_count": null,
   "metadata": {
    "id": "CRwgPtv-6nMP"
   },
   "outputs": [],
   "source": [
    "arr1 = np.random.rand(100, 100, 3) * 255\n",
    "arr2 = np.random.rand(100, 100, 3) * 255\n",
    "\n",
    "img1 = Image.fromarray(arr1.astype('uint8'))\n",
    "img2 = Image.fromarray(arr2.astype('uint8'))\n",
    "\n",
    "p = \"/content/drive/MyDrive/\" + PROJECT_DIR\n",
    "\n",
    "if not (Path(p) / 'tmp').exists():\n",
    "    (Path(p) / 'tmp').mkdir()\n",
    "\n",
    "img1.save(str(Path(p) / 'tmp' / 'img1.png'))\n",
    "img2.save(str(Path(p) / 'tmp' / 'img2.png'))\n",
    "\n",
    "%cd $p\n",
    "!zip -r \"tmp.zip\" \"tmp\""
   ]
  },
  {
   "cell_type": "markdown",
   "metadata": {
    "id": "MykrBSWNQQlq"
   },
   "source": [
    "Распакуем архив tmp.zip в директорию tmp2 в PROJECT_DIR. Теперь внутри директории tmp2 содержится директория tmp, внутри которой находятся 2 изображения."
   ]
  },
  {
   "cell_type": "code",
   "execution_count": null,
   "metadata": {
    "id": "CwSWrYIWMAus"
   },
   "outputs": [],
   "source": [
    "p = \"/content/drive/MyDrive/\" + PROJECT_DIR\n",
    "%cd $p\n",
    "!unzip -uq \"tmp.zip\" -d \"tmp2\""
   ]
  }
 ],
 "metadata": {
  "accelerator": "GPU",
  "colab": {
   "collapsed_sections": [],
   "name": "Untitled.ipynb",
   "provenance": []
  },
  "kernelspec": {
   "display_name": "Python 3 (ipykernel)",
   "language": "python",
   "name": "python3"
  },
  "language_info": {
   "codemirror_mode": {
    "name": "ipython",
    "version": 3
   },
   "file_extension": ".py",
   "mimetype": "text/x-python",
   "name": "python",
   "nbconvert_exporter": "python",
   "pygments_lexer": "ipython3",
   "version": "3.9.12"
  }
 },
 "nbformat": 4,
 "nbformat_minor": 4
}
